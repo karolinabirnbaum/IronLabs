{
  "cells": [
    {
      "cell_type": "code",
      "execution_count": null,
      "metadata": {
        "id": "i0RWh2mvoXFN"
      },
      "outputs": [],
      "source": []
    },
    {
      "cell_type": "code",
      "execution_count": null,
      "metadata": {
        "colab": {
          "base_uri": "https://localhost:8080/"
        },
        "id": "CA_DOtvToZCk",
        "outputId": "ae46d650-601a-4d62-ce55-95c47686bf8f"
      },
      "outputs": [
        {
          "name": "stdout",
          "output_type": "stream",
          "text": [
            "mastermind\n"
          ]
        }
      ],
      "source": [
        "print('mastermind')"
      ]
    },
    {
      "cell_type": "code",
      "execution_count": null,
      "metadata": {
        "id": "jjJSuyLJontD"
      },
      "outputs": [],
      "source": [
        "\n"
      ]
    },
    {
      "cell_type": "code",
      "execution_count": null,
      "metadata": {
        "colab": {
          "base_uri": "https://localhost:8080/"
        },
        "id": "dTnOpbARLElY",
        "outputId": "589edc43-a141-45f2-c819-3b694e532b41"
      },
      "outputs": [
        {
          "name": "stdout",
          "output_type": "stream",
          "text": [
            "Here is your list of colors you may choose: YELLOW, BLUE, RED, GREEN, WHITE, BLACK\n"
          ]
        }
      ],
      "source": [
        "print('Here is your list of colors you may choose: YELLOW, BLUE, RED, GREEN, WHITE, BLACK')"
      ]
    },
    {
      "cell_type": "code",
      "execution_count": null,
      "metadata": {
        "colab": {
          "background_save": true,
          "base_uri": "https://localhost:8080/"
        },
        "id": "y0OX6gRJLF-0",
        "outputId": "0ff6d5ee-ba6e-41da-d2e2-291909f67619"
      },
      "outputs": [
        {
          "name": "stdout",
          "output_type": "stream",
          "text": [
            "Welcome to 🅼🅰🆂🆃🅴🆁🅼🅸🅽🅳!\n",
            "Here is your list of colors you may choose: ['yellow', 'blue', 'red', 'green', 'white', 'black']\n"
          ]
        }
      ],
      "source": [
        "from getpass import getpass\n",
        "game = True\n",
        "while game:\n",
        "  print('Welcome to 🅼🅰🆂🆃🅴🆁🅼🅸🅽🅳!')\n",
        "  colors = ['yellow', 'blue', 'red', 'green', 'white', 'black']\n",
        "  print('Here is your list of colors you may choose:', colors)\n",
        "  codemaker = getpass('Choose your 4 colors from the list be careful with duplicates ❤️ :')\n",
        "  enigma = codemaker.split()\n",
        "\n",
        "  if len(enigma) != 4:\n",
        "    print(\"choose 4 colors!\")\n",
        "    continue\n",
        "    \n",
        "\n",
        "  if enigma[0] in enigma[1:]:\n",
        "    print(enigma[0] + ' is already there more than once')\n",
        "    continue\n",
        "  if enigma[1] in enigma[2:-1]:\n",
        "    print(enigma[1] + ' is already there more than once')\n",
        "    continue\n",
        "  if enigma[2] in enigma[3:-2]:\n",
        "    print(enigma[2] + ' is already there more than once')\n",
        "    continue\n",
        "  if enigma[3] in enigma[:3]:\n",
        "    print(enigma[3] + ' is already there more than once')\n",
        "    continue\n",
        "\n",
        "\n",
        "  if enigma[0] not in colors:\n",
        "    print(enigma[0] + ' is not an allowed color')\n",
        "    continue\n",
        "  if enigma[1] not in colors:\n",
        "    print(enigma[1] + ' is not an allowed color')\n",
        "    continue\n",
        "  if enigma[2] not in colors:\n",
        "    print(enigma[2] + ' is not an allowed color')\n",
        "    continue\n",
        "  if enigma[3] not in colors:\n",
        "    print(enigma[3] + ' is not an allowed color')\n",
        "    continue\n",
        "\n",
        "  turn = 1\n",
        "\n",
        "  while turn <= 12:\n",
        "    codebreaker = input('Make a guess:')\n",
        "    \n",
        "\n",
        "    guess = codebreaker.split()\n",
        "    response = []\n",
        "    \n",
        "    if len(guess) != 4:\n",
        "      print('choose 4 colors!')\n",
        "      continue\n",
        "\n",
        "\n",
        "    if guess[0] not in colors:\n",
        "      print(guess[0] + ' is not an allowed color')\n",
        "      continue\n",
        "    if guess[1] not in colors:\n",
        "      print(guess[1] + ' is not an allowed color')\n",
        "      continue\n",
        "    if guess[2] not in colors:\n",
        "      print(guess[2] + ' is not an allowed color')\n",
        "      continue\n",
        "    if guess[3] not in colors:\n",
        "      print(guess[3] + ' is not an allowed color')\n",
        "      continue\n",
        "\n",
        "    if guess[0] == enigma[0]:\n",
        "      response.append('🔴')\n",
        "    elif guess[0] == enigma[1] or guess[0] == enigma[2] or guess[0] == enigma[3]:\n",
        "      response.append('⚪')\n",
        "    else:\n",
        "      response.append('✖️')\n",
        "    \n",
        "    if guess[1] == enigma[1]:\n",
        "      response.append('🔴')\n",
        "    elif guess[1] == enigma[0] or guess[1] == enigma[2] or guess[1] == enigma[3]:\n",
        "      response.append('⚪')\n",
        "    else:\n",
        "      response.append('✖️')\n",
        "\n",
        "    if guess[2] == enigma[2]:\n",
        "      response.append('🔴')\n",
        "    elif guess[2] == enigma[1] or guess[0] == enigma[2] or guess[2] == enigma[3]:\n",
        "      response.append('⚪')\n",
        "    else:\n",
        "      response.append('✖️')\n",
        "\n",
        "    if guess[3] == enigma[3]:\n",
        "      response.append('🔴')\n",
        "    elif guess[3] == enigma[1] or guess[3] == enigma[2] or guess[3] == enigma[0]:\n",
        "      response.append('⚪')\n",
        "    else:\n",
        "      response.append('✖️')\n",
        "    \n",
        "    turn += 1\n",
        "\n",
        "    if guess[0] == enigma[0] and guess[1] == enigma[1] and guess[2] == enigma[2] and guess[3] == enigma[3]:\n",
        "      print('Congratulations 🎉🎉🎉🎉🎉')\n",
        "      break\n",
        "    \n",
        "      play_again = input('Do you want to play again?')\n",
        "\n",
        "      if play_again == 'yes':\n",
        "        game = True;\n",
        "      else:\n",
        "        game = False\n",
        "\n",
        "\n",
        "    print(' '.join(response))\n",
        "\n",
        "  play_again = input('Do you want to play again? 🎲🎮 ')\n",
        "\n",
        "  if play_again == 'yes' or play_again == 'YES' or play_again =='Yes':\n",
        "    game = True;\n",
        "  else:\n",
        "    print('See you next time 🚀🚀🚀🚀')\n",
        "    game = False\n",
        "    \n",
        "\n",
        "\n"
      ]
    },
    {
      "cell_type": "code",
      "execution_count": null,
      "metadata": {
        "id": "9rHXpxeVNFbQ"
      },
      "outputs": [],
      "source": []
    },
    {
      "cell_type": "code",
      "execution_count": null,
      "metadata": {
        "id": "eNJuKkYPLHGe"
      },
      "outputs": [],
      "source": []
    },
    {
      "cell_type": "code",
      "execution_count": null,
      "metadata": {
        "colab": {
          "base_uri": "https://localhost:8080/"
        },
        "id": "tu0A6VY-LG6e",
        "outputId": "58d10981-b4d5-4f98-dc0d-2686b8d374e9"
      },
      "outputs": [
        {
          "name": "stdout",
          "output_type": "stream",
          "text": [
            "Please enter a color from the list: yellow blue black green\n",
            "You have entered an invalid color from the list: \n",
            "Please enter a color from the list: yellow\n"
          ]
        },
        {
          "data": {
            "text/plain": [
              "['yellow']"
            ]
          },
          "execution_count": 13,
          "metadata": {},
          "output_type": "execute_result"
        }
      ],
      "source": [
        "list_of_colors = [\"yellow\",\"blue\",\"red\",\"green\",\"white\",\"black\"]\n",
        "codemaker_colors=[]\n",
        "input1=\"\"\n",
        "while input1 not in list_of_colors:\n",
        "    input1=input(\"Please enter a color from the list: \").lower()\n",
        "    if input1 in list_of_colors:\n",
        "        codemaker_colors.append(input1)\n",
        "        break\n",
        "    else:\n",
        "        print(\"You have entered an invalid color from the list: \")\n",
        "codemaker_colors"
      ]
    },
    {
      "cell_type": "code",
      "execution_count": null,
      "metadata": {
        "id": "aGKQBQqILGst"
      },
      "outputs": [],
      "source": []
    },
    {
      "cell_type": "code",
      "execution_count": null,
      "metadata": {
        "id": "lP_S3HlcLGXz"
      },
      "outputs": [],
      "source": []
    }
  ],
  "metadata": {
    "colab": {
      "provenance": []
    },
    "kernelspec": {
      "display_name": "Python 3",
      "name": "python3"
    },
    "language_info": {
      "name": "python"
    }
  },
  "nbformat": 4,
  "nbformat_minor": 0
}